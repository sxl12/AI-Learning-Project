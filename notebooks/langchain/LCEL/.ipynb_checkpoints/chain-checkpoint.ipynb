{
 "cells": [
  {
   "cell_type": "markdown",
   "id": "54d50705-385b-40d7-85a3-74b8922443be",
   "metadata": {},
   "source": [
    "# LLM chain"
   ]
  },
  {
   "cell_type": "code",
   "execution_count": 1,
   "id": "d2fa8da2-dc74-44e3-a185-0b03cc92ba5a",
   "metadata": {},
   "outputs": [],
   "source": [
    "from langchain import chains,PromptTemplate\n",
    "from langchain_openai import OpenAI\n",
    "from langchain.chains import LLMChain\n",
    "\n",
    "model = 'gpt-3.5-turbo-instruct'\n",
    "llm = OpenAI(model=model,temperature =0.8)"
   ]
  },
  {
   "cell_type": "code",
   "execution_count": null,
   "id": "eab2837e-5b23-4994-b464-6626fa458223",
   "metadata": {
    "scrolled": true
   },
   "outputs": [],
   "source": [
    "prompt = PromptTemplate(\n",
    "    input_variables=[\"input\"],\n",
    "    template=\"关于{input}的几个比较出名的品牌，只列出名牌，不做其他介绍\",\n",
    ")\n",
    "\n",
    "llmChain = LLMChain(llm=llm,prompt=prompt)\n"
   ]
  },
  {
   "cell_type": "code",
   "execution_count": null,
   "id": "7387ba57-3c49-49bc-b8f3-4e3c7060cb8e",
   "metadata": {},
   "outputs": [],
   "source": [
    "llmChain.invoke({\n",
    "   \"input\":\"可乐\"\n",
    "})"
   ]
  },
  {
   "cell_type": "markdown",
   "id": "8a1e2b38-8303-409e-9bfa-6f33d5b26d26",
   "metadata": {},
   "source": [
    "# SequentialChain 顺序流式\n",
    " 流水线式允许多个输入输出\n",
    " \n",
    " 上一个chain的输出作为下一个chain的变量，注意是变量不是提示词\n",
    " "
   ]
  },
  {
   "cell_type": "code",
   "execution_count": null,
   "id": "a0a673d6-70b6-4e9b-8470-b866cbdf7e37",
   "metadata": {},
   "outputs": [],
   "source": [
    "# 构建下一个chain\n",
    "template = '''根据以下输入找出属于中国的产品。\n",
    "产品列表：{llm11}\n",
    "以下是属于中国的产品：'''\n",
    "\n",
    "prompt =PromptTemplate(input_variables=['llm11'],template=template)\n",
    "\n",
    "seasrch_chain = LLMChain(llm=llm,prompt=prompt)  \n"
   ]
  },
  {
   "cell_type": "code",
   "execution_count": null,
   "id": "031ba6b2-d86e-47c9-afea-a210b1d68696",
   "metadata": {},
   "outputs": [],
   "source": [
    "\n",
    "from langchain.chains import SimpleSequentialChain\n",
    "\n",
    "over_chain = SimpleSequentialChain(verbose=True, chains=[llmChain,seasrch_chain])\n",
    "over_chain.invoke(\"可乐\")"
   ]
  },
  {
   "cell_type": "markdown",
   "id": "a5f2b6a6-6a31-4ed0-8e65-f58fa922c679",
   "metadata": {},
   "source": [
    "# TransformChain 超长文本处理"
   ]
  },
  {
   "cell_type": "code",
   "execution_count": 6,
   "id": "ee210272-db77-4d04-b523-4c01f7783041",
   "metadata": {},
   "outputs": [
    {
     "ename": "UnicodeDecodeError",
     "evalue": "'utf-8' codec can't decode byte 0x85 in position 16: invalid start byte",
     "output_type": "error",
     "traceback": [
      "\u001b[1;31m---------------------------------------------------------------------------\u001b[0m",
      "\u001b[1;31mUnicodeDecodeError\u001b[0m                        Traceback (most recent call last)",
      "Cell \u001b[1;32mIn[6], line 6\u001b[0m\n\u001b[0;32m      3\u001b[0m file_path \u001b[38;5;241m=\u001b[39m \u001b[38;5;124mr\u001b[39m\u001b[38;5;124m'\u001b[39m\u001b[38;5;124m../../../data/documents/准备文档.docx\u001b[39m\u001b[38;5;124m'\u001b[39m\n\u001b[0;32m      5\u001b[0m \u001b[38;5;28;01mwith\u001b[39;00m \u001b[38;5;28mopen\u001b[39m(file_path,encoding\u001b[38;5;241m=\u001b[39m\u001b[38;5;124m'\u001b[39m\u001b[38;5;124mutf-8\u001b[39m\u001b[38;5;124m'\u001b[39m) \u001b[38;5;28;01mas\u001b[39;00m f:\n\u001b[1;32m----> 6\u001b[0m     doc_file \u001b[38;5;241m=\u001b[39m \u001b[43mf\u001b[49m\u001b[38;5;241;43m.\u001b[39;49m\u001b[43mread\u001b[49m\u001b[43m(\u001b[49m\u001b[43m)\u001b[49m\n",
      "File \u001b[1;32mD:\\tools\\miniconda3\\envs\\llm-3.11\\Lib\\codecs.py:322\u001b[0m, in \u001b[0;36mBufferedIncrementalDecoder.decode\u001b[1;34m(self, input, final)\u001b[0m\n\u001b[0;32m    319\u001b[0m \u001b[38;5;28;01mdef\u001b[39;00m \u001b[38;5;21mdecode\u001b[39m(\u001b[38;5;28mself\u001b[39m, \u001b[38;5;28minput\u001b[39m, final\u001b[38;5;241m=\u001b[39m\u001b[38;5;28;01mFalse\u001b[39;00m):\n\u001b[0;32m    320\u001b[0m     \u001b[38;5;66;03m# decode input (taking the buffer into account)\u001b[39;00m\n\u001b[0;32m    321\u001b[0m     data \u001b[38;5;241m=\u001b[39m \u001b[38;5;28mself\u001b[39m\u001b[38;5;241m.\u001b[39mbuffer \u001b[38;5;241m+\u001b[39m \u001b[38;5;28minput\u001b[39m\n\u001b[1;32m--> 322\u001b[0m     (result, consumed) \u001b[38;5;241m=\u001b[39m \u001b[38;5;28mself\u001b[39m\u001b[38;5;241m.\u001b[39m_buffer_decode(data, \u001b[38;5;28mself\u001b[39m\u001b[38;5;241m.\u001b[39merrors, final)\n\u001b[0;32m    323\u001b[0m     \u001b[38;5;66;03m# keep undecoded input until the next call\u001b[39;00m\n\u001b[0;32m    324\u001b[0m     \u001b[38;5;28mself\u001b[39m\u001b[38;5;241m.\u001b[39mbuffer \u001b[38;5;241m=\u001b[39m data[consumed:]\n",
      "\u001b[1;31mUnicodeDecodeError\u001b[0m: 'utf-8' codec can't decode byte 0x85 in position 16: invalid start byte"
     ]
    }
   ],
   "source": [
    "from langchain.chains import TransformChain\n",
    "import chardet\n",
    "file_path = r'../../../data/documents/准备文档.docx'\n",
    "\n",
    "\n",
    "with open(file_path,encoding='utf-8') as f:\n",
    "    doc_file = f.read()"
   ]
  },
  {
   "cell_type": "code",
   "execution_count": 7,
   "id": "bc6c0358-1a22-4e51-af33-f36328925669",
   "metadata": {},
   "outputs": [
    {
     "name": "stdout",
     "output_type": "stream",
     "text": [
      "Collecting chardet\n",
      "  Downloading chardet-5.2.0-py3-none-any.whl.metadata (3.4 kB)\n",
      "Downloading chardet-5.2.0-py3-none-any.whl (199 kB)\n",
      "Installing collected packages: chardet\n",
      "Successfully installed chardet-5.2.0\n"
     ]
    }
   ],
   "source": [
    "! pip install chardet"
   ]
  },
  {
   "cell_type": "code",
   "execution_count": null,
   "id": "a248e41a-9f23-4b2b-a4e3-fcde8c250a32",
   "metadata": {},
   "outputs": [],
   "source": [
    "import c"
   ]
  }
 ],
 "metadata": {
  "kernelspec": {
   "display_name": "llm-py-v3.11",
   "language": "python",
   "name": "llm-3.11"
  },
  "language_info": {
   "codemirror_mode": {
    "name": "ipython",
    "version": 3
   },
   "file_extension": ".py",
   "mimetype": "text/x-python",
   "name": "python",
   "nbconvert_exporter": "python",
   "pygments_lexer": "ipython3",
   "version": "3.11.9"
  }
 },
 "nbformat": 4,
 "nbformat_minor": 5
}
