{
 "cells": [
  {
   "cell_type": "markdown",
   "id": "54d50705-385b-40d7-85a3-74b8922443be",
   "metadata": {},
   "source": [
    "# LLM chain"
   ]
  },
  {
   "cell_type": "code",
   "execution_count": 2,
   "id": "d2fa8da2-dc74-44e3-a185-0b03cc92ba5a",
   "metadata": {},
   "outputs": [],
   "source": [
    "from langchain import chains,PromptTemplate\n",
    "from langchain_openai import OpenAI\n",
    "from langchain.chains import LLMChain\n",
    "\n",
    "model = 'gpt-3.5-turbo-instruct'\n",
    "llm = OpenAI(model=model,temperature =0.8)"
   ]
  },
  {
   "cell_type": "code",
   "execution_count": null,
   "id": "eab2837e-5b23-4994-b464-6626fa458223",
   "metadata": {
    "scrolled": true
   },
   "outputs": [],
   "source": [
    "prompt = PromptTemplate(\n",
    "    input_variables=[\"input\"],\n",
    "    template=\"关于{input}的几个比较出名的品牌，只列出名牌，不做其他介绍\",\n",
    ")\n",
    "\n",
    "llmChain = LLMChain(llm=llm,prompt=prompt)\n"
   ]
  },
  {
   "cell_type": "code",
   "execution_count": null,
   "id": "7387ba57-3c49-49bc-b8f3-4e3c7060cb8e",
   "metadata": {},
   "outputs": [],
   "source": [
    "llmChain.invoke({\n",
    "   \"input\":\"可乐\"\n",
    "})"
   ]
  },
  {
   "cell_type": "markdown",
   "id": "8a1e2b38-8303-409e-9bfa-6f33d5b26d26",
   "metadata": {},
   "source": [
    "# SequentialChain 顺序流式\n",
    " 流水线式允许多个输入输出\n",
    " \n",
    " 上一个chain的输出作为下一个chain的变量，注意是变量不是提示词\n",
    " "
   ]
  },
  {
   "cell_type": "code",
   "execution_count": null,
   "id": "a0a673d6-70b6-4e9b-8470-b866cbdf7e37",
   "metadata": {},
   "outputs": [],
   "source": [
    "# 构建下一个chain\n",
    "template = '''根据以下输入找出属于中国的产品。\n",
    "产品列表：{llm11}\n",
    "以下是属于中国的产品：'''\n",
    "\n",
    "prompt =PromptTemplate(input_variables=['llm11'],template=template)\n",
    "\n",
    "seasrch_chain = LLMChain(llm=llm,prompt=prompt)  \n"
   ]
  },
  {
   "cell_type": "code",
   "execution_count": null,
   "id": "031ba6b2-d86e-47c9-afea-a210b1d68696",
   "metadata": {},
   "outputs": [],
   "source": [
    "\n",
    "from langchain.chains import SimpleSequentialChain\n",
    "\n",
    "over_chain = SimpleSequentialChain(verbose=True, chains=[llmChain,seasrch_chain])\n",
    "over_chain.invoke(\"可乐\")"
   ]
  },
  {
   "cell_type": "markdown",
   "id": "a5f2b6a6-6a31-4ed0-8e65-f58fa922c679",
   "metadata": {},
   "source": [
    "# TransformChain 超长文本处理"
   ]
  },
  {
   "cell_type": "code",
   "execution_count": 3,
   "id": "ee210272-db77-4d04-b523-4c01f7783041",
   "metadata": {},
   "outputs": [],
   "source": [
    "from langchain.chains import TransformChain\n",
    "\n",
    "file_path = r'../../../data/documents/总结.txt'\n",
    "\n",
    "\n",
    "with open(file_path,encoding='utf-8') as f:\n",
    "    doc_file = f.read()"
   ]
  },
  {
   "cell_type": "code",
   "execution_count": 4,
   "id": "bc6c0358-1a22-4e51-af33-f36328925669",
   "metadata": {
    "scrolled": true
   },
   "outputs": [
    {
     "data": {
      "text/plain": [
       "'从去年7月份开营一直到现在，接近7个月过去了，一共24周的课程，一眨眼过去了。回顾这半年多的时光，真的很感慨，放弃了周末的休息，每周末一整天用来听直播课，剩下一天复习加赶作业，加上周中的学习时光，可以说这半年基本放弃了全部周末娱乐和休闲的时间，才能走到今天毕业。\\n\\n最早选择报名这个训练营，是因为有跳槽的想法，但是一直没有合适的跳槽方向，网络安全是这几年比较火的方向，人才需求量大，希望通过学习可以实现跳槽加薪。我目前从事的是产品经理岗位，可以说并没有相关的知识背景，学习起来还是不轻松的，需要直播加复习的方式才能搞懂知识点和实操。\\n\\n好在两位授课老师人都非常好，讲课经验丰富，知识点的前后安排得当，由浅入深，逐步让我入了网安的大门。我对网安的工作模式也渐渐了解了一些，两位老师经常做一些拓展，学习方式上的，也有人生努力方向上的，这种收获比单纯的知识点帮助更大，非常感谢两位老师。\\n\\n目前还没有跳槽，互联网行业大裁员同样波及到了网安，还有其他从业者。转到网安工作也需要勇气，越学越觉得目前的知识和能力不够用，这是一门实践性很强的学科，需要有大量的实践经验才能掌握和提升。而想要获得积累，最好的方式是进大厂，才有更多的历练机会，小公司往往不重视，无法实现快速的成长。大厂难进，大厂主要都在大城市，这也成了择业的一个考量因素。选择了网安，就意味着失去了小城市工作的机会，不得不在大城市漂泊和卷。这也是过去没有考虑到的一点。\\n\\n当然这并不是说学了课程没有用，网安值得每个人重视起来，学习这门课程会让人有全新的视角，攻击方和防守方的视角，这是平常做软件系统容易忽视的地方，安全从来是相对的，道高一尺魔高一丈，安全也是永续发展的，不持续学习就会面临落伍和淘汰。\\n\\n这是学习的意义，不能停下脚步，必须永远向前。\\n\\n最后谈谈建议，课程很优质，但是缺少靶场练习，自建靶场还是内容偏少的，希望老师推荐更多的靶场用于尝试。\\n\\n除了上面夸过的两位授课老师，还要夸一夸助教，对班级群里问题的回答很及时，基本都能得到响应，作业批改也很认真。再夸一夸班班，每周提醒我们上课，上传课件和视频，统计考勤和毕业信息，经常帮助我们催助教和老师回答问题，经常关心我们的学习进度，是非常负责贴心暖心的班班！还有，感谢班级群里热心的同学，在助教还没来得及答疑的时候，他们很热心地回答了我的问题，解答我的疑惑，真的是非常友善可爱的同学们！\\n\\n感谢这门课程，感谢相遇，感谢这段难忘的学习之旅！'"
      ]
     },
     "execution_count": 4,
     "metadata": {},
     "output_type": "execute_result"
    }
   ],
   "source": [
    "doc_file"
   ]
  },
  {
   "cell_type": "code",
   "execution_count": 17,
   "id": "a248e41a-9f23-4b2b-a4e3-fcde8c250a32",
   "metadata": {},
   "outputs": [],
   "source": [
    "def transform_func(inputs: dict) -> dict:\n",
    "    text = inputs[\"text\"]\n",
    "    # 截取前三行\n",
    "    # short_text =\"\\n\".join( text.split(\"\\n\")[:3])\n",
    "    short_text = text[:1000]\n",
    "    return {\"outputs\":short_text}"
   ]
  },
  {
   "cell_type": "code",
   "execution_count": 18,
   "id": "679973f7-90ce-4eab-bebd-7b59b7f27f57",
   "metadata": {},
   "outputs": [],
   "source": [
    "# 构建 TransformChain\n",
    "transform_chain = TransformChain(\n",
    "    input_variables=[\"text\"],\n",
    "    output_variables=[\"outputs\"],\n",
    "    transform=transform_func,\n",
    "    verbose=True\n",
    ")"
   ]
  },
  {
   "cell_type": "code",
   "execution_count": 19,
   "id": "ef6afd7f-93e8-45b1-b946-e5ce185567d3",
   "metadata": {},
   "outputs": [
    {
     "name": "stdout",
     "output_type": "stream",
     "text": [
      "\n",
      "\n",
      "\u001b[1m> Entering new TransformChain chain...\u001b[0m\n",
      "\n",
      "\u001b[1m> Finished chain.\u001b[0m\n"
     ]
    }
   ],
   "source": [
    "transformed_text = transform_chain(doc_file)"
   ]
  },
  {
   "cell_type": "code",
   "execution_count": 20,
   "id": "ca1b56b8-cd3c-4daa-9281-749fb0ecc6bc",
   "metadata": {},
   "outputs": [
    {
     "data": {
      "text/plain": [
       "{'text': '从去年7月份开营一直到现在，接近7个月过去了，一共24周的课程，一眨眼过去了。回顾这半年多的时光，真的很感慨，放弃了周末的休息，每周末一整天用来听直播课，剩下一天复习加赶作业，加上周中的学习时光，可以说这半年基本放弃了全部周末娱乐和休闲的时间，才能走到今天毕业。\\n\\n最早选择报名这个训练营，是因为有跳槽的想法，但是一直没有合适的跳槽方向，网络安全是这几年比较火的方向，人才需求量大，希望通过学习可以实现跳槽加薪。我目前从事的是产品经理岗位，可以说并没有相关的知识背景，学习起来还是不轻松的，需要直播加复习的方式才能搞懂知识点和实操。\\n\\n好在两位授课老师人都非常好，讲课经验丰富，知识点的前后安排得当，由浅入深，逐步让我入了网安的大门。我对网安的工作模式也渐渐了解了一些，两位老师经常做一些拓展，学习方式上的，也有人生努力方向上的，这种收获比单纯的知识点帮助更大，非常感谢两位老师。\\n\\n目前还没有跳槽，互联网行业大裁员同样波及到了网安，还有其他从业者。转到网安工作也需要勇气，越学越觉得目前的知识和能力不够用，这是一门实践性很强的学科，需要有大量的实践经验才能掌握和提升。而想要获得积累，最好的方式是进大厂，才有更多的历练机会，小公司往往不重视，无法实现快速的成长。大厂难进，大厂主要都在大城市，这也成了择业的一个考量因素。选择了网安，就意味着失去了小城市工作的机会，不得不在大城市漂泊和卷。这也是过去没有考虑到的一点。\\n\\n当然这并不是说学了课程没有用，网安值得每个人重视起来，学习这门课程会让人有全新的视角，攻击方和防守方的视角，这是平常做软件系统容易忽视的地方，安全从来是相对的，道高一尺魔高一丈，安全也是永续发展的，不持续学习就会面临落伍和淘汰。\\n\\n这是学习的意义，不能停下脚步，必须永远向前。\\n\\n最后谈谈建议，课程很优质，但是缺少靶场练习，自建靶场还是内容偏少的，希望老师推荐更多的靶场用于尝试。\\n\\n除了上面夸过的两位授课老师，还要夸一夸助教，对班级群里问题的回答很及时，基本都能得到响应，作业批改也很认真。再夸一夸班班，每周提醒我们上课，上传课件和视频，统计考勤和毕业信息，经常帮助我们催助教和老师回答问题，经常关心我们的学习进度，是非常负责贴心暖心的班班！还有，感谢班级群里热心的同学，在助教还没来得及答疑的时候，他们很热心地回答了我的问题，解答我的疑惑，真的是非常友善可爱的同学们！\\n\\n感谢这门课程，感谢相遇，感谢这段难忘的学习之旅！',\n",
       " 'outputs': '从去年7月份开营一直到现在，接近7个月过去了，一共24周的课程，一眨眼过去了。回顾这半年多的时光，真的很感慨，放弃了周末的休息，每周末一整天用来听直播课，剩下一天复习加赶作业，加上周中的学习时光，可以'}"
      ]
     },
     "execution_count": 20,
     "metadata": {},
     "output_type": "execute_result"
    }
   ],
   "source": [
    "transformed_text"
   ]
  },
  {
   "cell_type": "code",
   "execution_count": 24,
   "id": "4c8e4daf-1fa8-45ca-89bf-774fab1e55b2",
   "metadata": {},
   "outputs": [],
   "source": [
    "temlate = '''总结以下内容:\n",
    "{outputs}\n",
    "\n",
    "总结：''' \n",
    "\n",
    "prompt = PromptTemplate.from_template(\n",
    "  template=temlate  \n",
    ")\n",
    "\n",
    "summary_chain =(prompt| llm)\n"
   ]
  },
  {
   "cell_type": "code",
   "execution_count": 29,
   "id": "4b224489-9c95-4685-8352-916b994848d1",
   "metadata": {},
   "outputs": [
    {
     "data": {
      "text/plain": [
       "'\\n在这半年多的时间里，我参加了一场为期24周的培训课程。从7月份开始到现在，已经接近7个月了。在这段时间里，我学到了很多知识，也经历了许多挑战和困难。每周末都要放弃休息时间，专心听直播课，然后剩下的时间都用来复习和赶作业。而在周中，我也会花费大量的时间来学习。这样的学习节奏让我感到非常疲惫，但也让我收获了很多。我学会了如何更有效地学习，如何解决问题，如何与他人合作。我也发现了自己的不足，努力克服并不断进步。这次培训让我收获了丰富的知识，也带'"
      ]
     },
     "execution_count": 29,
     "metadata": {},
     "output_type": "execute_result"
    }
   ],
   "source": [
    "summary_chain.invoke(transformed_text)"
   ]
  },
  {
   "cell_type": "markdown",
   "id": "51e37437-2fb5-42d5-ad46-0857ba8adfb0",
   "metadata": {},
   "source": [
    "# RouterChain 路由chain"
   ]
  },
  {
   "cell_type": "code",
   "execution_count": 9,
   "id": "a49b0ba5-7327-4f4d-8bf9-61f3f0f78140",
   "metadata": {},
   "outputs": [],
   "source": [
    "from langchain.chains.router import MultiRouteChain\n",
    "from langchain_core.runnables import RunnableWithMessageHistory"
   ]
  },
  {
   "cell_type": "code",
   "execution_count": 30,
   "id": "fba50df7-8589-4b00-bc55-50908e38feba",
   "metadata": {},
   "outputs": [],
   "source": [
    "# 创建提示词模板\n",
    "math_prompt = '''你是一个数学专家。\n",
    "擅长问题的分解以及计算。\n",
    "这是一个问题：\n",
    "{input}'''\n",
    "\n",
    "english_prompt = '''你是英语专家。\n",
    "擅长英语语法以及翻译。\n",
    "这是一个问题：\n",
    "{input}'''\n",
    "\n",
    "\n",
    "# 组装多提示词集合\n",
    "\n",
    "prompt_infos = [\n",
    "    {\"name\":\"math\",\"prompt_template\":math_prompt,'description':\"处理数学\"},\n",
    "    {\"name\":\"english\",\"prompt_template\":english_prompt,'description':\"处理英语\"},\n",
    "]\n",
    "\n",
    "llm =OpenAI(model=\"gpt-4o-mini\",max_retries=2,max_tokens=500)\n",
    "\n"
   ]
  },
  {
   "cell_type": "code",
   "execution_count": 36,
   "id": "436b6dae-c3aa-45ac-afec-f17536484984",
   "metadata": {},
   "outputs": [],
   "source": [
    "default_chain = ConversationChain(llm=llm, output_key=\"text\")"
   ]
  },
  {
   "cell_type": "code",
   "execution_count": 31,
   "id": "7a2b92f9-5daa-43d1-ab7b-cb51f081c87f",
   "metadata": {},
   "outputs": [],
   "source": [
    "# 创建chain 字典\n",
    "\n",
    "destination_chains={}\n",
    "\n",
    "for prompt_info in prompt_infos:\n",
    "    \n",
    "    name = prompt_info['name'] \n",
    "    prompt_template = prompt_info['prompt_template']\n",
    "    prompt = PromptTemplate(input_variables=['input'],template=prompt_template)\n",
    "    chain =(prompt| llm)\n",
    "    destination_chains[name] = chain\n",
    "    "
   ]
  },
  {
   "cell_type": "code",
   "execution_count": 38,
   "id": "2bb10dae-d563-414d-94a7-b69a3e06df89",
   "metadata": {},
   "outputs": [
    {
     "data": {
      "text/plain": [
       "{'math': PromptTemplate(input_variables=['input'], template='你是一个数学专家。\\n擅长问题的分解以及计算。\\n这是一个问题：\\n{input}')\n",
       " | OpenAI(client=<openai.resources.completions.Completions object at 0x000002CE1048D310>, async_client=<openai.resources.completions.AsyncCompletions object at 0x000002CE105A6A10>, model_name='gpt-4o-mini', max_tokens=500, openai_api_key=SecretStr('**********'), openai_proxy=''),\n",
       " 'english': PromptTemplate(input_variables=['input'], template='你是英语专家。\\n擅长英语语法以及翻译。\\n这是一个问题：\\n{input}')\n",
       " | OpenAI(client=<openai.resources.completions.Completions object at 0x000002CE1048D310>, async_client=<openai.resources.completions.AsyncCompletions object at 0x000002CE105A6A10>, model_name='gpt-4o-mini', max_tokens=500, openai_api_key=SecretStr('**********'), openai_proxy='')}"
      ]
     },
     "execution_count": 38,
     "metadata": {},
     "output_type": "execute_result"
    }
   ],
   "source": [
    "destination_chains"
   ]
  },
  {
   "cell_type": "code",
   "execution_count": 11,
   "id": "c3134701-54da-4b32-b01c-a456e3d9a320",
   "metadata": {},
   "outputs": [],
   "source": [
    "from langchain.chains.router.llm_router import LLMRouterChain, RouterOutputParser\n",
    "from langchain.chains.router.multi_prompt_prompt import MULTI_PROMPT_ROUTER_TEMPLATE\n"
   ]
  },
  {
   "cell_type": "code",
   "execution_count": 33,
   "id": "c9be3ab5-91ce-4cbe-8200-0998f9c0dc6c",
   "metadata": {},
   "outputs": [],
   "source": [
    "\n",
    "destinations = [f\"{p['name']}:{p['description']}\" for p in prompt_infos]\n",
    "destinations_str = \"\\n\".join(destinations)\n",
    "router_template = MULTI_PROMPT_ROUTER_TEMPLATE.format(destinations=destinations_str)\n",
    "\n",
    "router_prompt = PromptTemplate(\n",
    "    input_variables=['input'],\n",
    "    output_parser=RouterOutputParser(),\n",
    "    template=router_template\n",
    ")\n",
    "router_chain = LLMRouterChain.from_llm(llm=llm,prompt=router_prompt)"
   ]
  },
  {
   "cell_type": "code",
   "execution_count": 34,
   "id": "d3f8efa2-c044-4a89-a3fc-68286f483c36",
   "metadata": {},
   "outputs": [
    {
     "data": {
      "text/plain": [
       "'Given a raw text input to a language model select the model prompt best suited for the input. You will be given the names of the available prompts and a description of what the prompt is best suited for. You may also revise the original input if you think that revising it will ultimately lead to a better response from the language model.\\n\\n<< FORMATTING >>\\nReturn a markdown code snippet with a JSON object formatted to look like:\\n```json\\n{{\\n    \"destination\": string \\\\ name of the prompt to use or \"DEFAULT\"\\n    \"next_inputs\": string \\\\ a potentially modified version of the original input\\n}}\\n```\\n\\nREMEMBER: \"destination\" MUST be one of the candidate prompt names specified below OR it can be \"DEFAULT\" if the input is not well suited for any of the candidate prompts.\\nREMEMBER: \"next_inputs\" can just be the original input if you don\\'t think any modifications are needed.\\n\\n<< CANDIDATE PROMPTS >>\\nmath:处理数学\\nenglish:处理英语\\n\\n<< INPUT >>\\n{input}\\n\\n<< OUTPUT (must include ```json at the start of the response) >>\\n<< OUTPUT (must end with ```) >>\\n'"
      ]
     },
     "execution_count": 34,
     "metadata": {},
     "output_type": "execute_result"
    }
   ],
   "source": [
    "router_prompt.template"
   ]
  },
  {
   "cell_type": "code",
   "execution_count": 37,
   "id": "05683095-1520-40f4-9e85-0865de976d30",
   "metadata": {},
   "outputs": [
    {
     "ename": "ValidationError",
     "evalue": "2 validation errors for MultiPromptChain\ndestination_chains -> math\n  Can't instantiate abstract class Chain with abstract methods _call, input_keys, output_keys (type=type_error)\ndestination_chains -> english\n  Can't instantiate abstract class Chain with abstract methods _call, input_keys, output_keys (type=type_error)",
     "output_type": "error",
     "traceback": [
      "\u001b[1;31m---------------------------------------------------------------------------\u001b[0m",
      "\u001b[1;31mValidationError\u001b[0m                           Traceback (most recent call last)",
      "Cell \u001b[1;32mIn[37], line 4\u001b[0m\n\u001b[0;32m      1\u001b[0m \u001b[38;5;66;03m# 创建MultiPromptChain对象，其中包含了路由链，目标链和默认链。\u001b[39;00m\n\u001b[0;32m      2\u001b[0m \u001b[38;5;28;01mfrom\u001b[39;00m \u001b[38;5;21;01mlangchain\u001b[39;00m\u001b[38;5;21;01m.\u001b[39;00m\u001b[38;5;21;01mchains\u001b[39;00m \u001b[38;5;28;01mimport\u001b[39;00m MultiPromptChain\n\u001b[1;32m----> 4\u001b[0m chain \u001b[38;5;241m=\u001b[39m \u001b[43mMultiPromptChain\u001b[49m\u001b[43m(\u001b[49m\n\u001b[0;32m      5\u001b[0m \u001b[43m    \u001b[49m\u001b[43mrouter_chain\u001b[49m\u001b[38;5;241;43m=\u001b[39;49m\u001b[43mrouter_chain\u001b[49m\u001b[43m,\u001b[49m\n\u001b[0;32m      6\u001b[0m \u001b[43m    \u001b[49m\u001b[43mdestination_chains\u001b[49m\u001b[38;5;241;43m=\u001b[39;49m\u001b[43mdestination_chains\u001b[49m\u001b[43m,\u001b[49m\n\u001b[0;32m      7\u001b[0m \u001b[43m    \u001b[49m\u001b[43mdefault_chain\u001b[49m\u001b[38;5;241;43m=\u001b[39;49m\u001b[43mdefault_chain\u001b[49m\u001b[43m,\u001b[49m\n\u001b[0;32m      8\u001b[0m \u001b[43m    \u001b[49m\u001b[43mverbose\u001b[49m\u001b[38;5;241;43m=\u001b[39;49m\u001b[38;5;28;43;01mTrue\u001b[39;49;00m\u001b[43m,\u001b[49m\n\u001b[0;32m      9\u001b[0m \u001b[43m)\u001b[49m\n",
      "File \u001b[1;32mD:\\tools\\miniconda3\\envs\\llm-3.11\\Lib\\site-packages\\langchain_core\\_api\\deprecation.py:215\u001b[0m, in \u001b[0;36mdeprecated.<locals>.deprecate.<locals>.finalize.<locals>.warn_if_direct_instance\u001b[1;34m(self, *args, **kwargs)\u001b[0m\n\u001b[0;32m    213\u001b[0m     warned \u001b[38;5;241m=\u001b[39m \u001b[38;5;28;01mTrue\u001b[39;00m\n\u001b[0;32m    214\u001b[0m     emit_warning()\n\u001b[1;32m--> 215\u001b[0m \u001b[38;5;28;01mreturn\u001b[39;00m \u001b[43mwrapped\u001b[49m\u001b[43m(\u001b[49m\u001b[38;5;28;43mself\u001b[39;49m\u001b[43m,\u001b[49m\u001b[43m \u001b[49m\u001b[38;5;241;43m*\u001b[39;49m\u001b[43margs\u001b[49m\u001b[43m,\u001b[49m\u001b[43m \u001b[49m\u001b[38;5;241;43m*\u001b[39;49m\u001b[38;5;241;43m*\u001b[39;49m\u001b[43mkwargs\u001b[49m\u001b[43m)\u001b[49m\n",
      "File \u001b[1;32mD:\\tools\\miniconda3\\envs\\llm-3.11\\Lib\\site-packages\\langchain_core\\load\\serializable.py:113\u001b[0m, in \u001b[0;36mSerializable.__init__\u001b[1;34m(self, *args, **kwargs)\u001b[0m\n\u001b[0;32m    111\u001b[0m \u001b[38;5;28;01mdef\u001b[39;00m \u001b[38;5;21m__init__\u001b[39m(\u001b[38;5;28mself\u001b[39m, \u001b[38;5;241m*\u001b[39margs: Any, \u001b[38;5;241m*\u001b[39m\u001b[38;5;241m*\u001b[39mkwargs: Any) \u001b[38;5;241m-\u001b[39m\u001b[38;5;241m>\u001b[39m \u001b[38;5;28;01mNone\u001b[39;00m:\n\u001b[0;32m    112\u001b[0m \u001b[38;5;250m    \u001b[39m\u001b[38;5;124;03m\"\"\"\"\"\"\u001b[39;00m\n\u001b[1;32m--> 113\u001b[0m     \u001b[38;5;28;43msuper\u001b[39;49m\u001b[43m(\u001b[49m\u001b[43m)\u001b[49m\u001b[38;5;241;43m.\u001b[39;49m\u001b[38;5;21;43m__init__\u001b[39;49m\u001b[43m(\u001b[49m\u001b[38;5;241;43m*\u001b[39;49m\u001b[43margs\u001b[49m\u001b[43m,\u001b[49m\u001b[43m \u001b[49m\u001b[38;5;241;43m*\u001b[39;49m\u001b[38;5;241;43m*\u001b[39;49m\u001b[43mkwargs\u001b[49m\u001b[43m)\u001b[49m\n",
      "File \u001b[1;32mD:\\tools\\miniconda3\\envs\\llm-3.11\\Lib\\site-packages\\pydantic\\v1\\main.py:341\u001b[0m, in \u001b[0;36mBaseModel.__init__\u001b[1;34m(__pydantic_self__, **data)\u001b[0m\n\u001b[0;32m    339\u001b[0m values, fields_set, validation_error \u001b[38;5;241m=\u001b[39m validate_model(__pydantic_self__\u001b[38;5;241m.\u001b[39m\u001b[38;5;18m__class__\u001b[39m, data)\n\u001b[0;32m    340\u001b[0m \u001b[38;5;28;01mif\u001b[39;00m validation_error:\n\u001b[1;32m--> 341\u001b[0m     \u001b[38;5;28;01mraise\u001b[39;00m validation_error\n\u001b[0;32m    342\u001b[0m \u001b[38;5;28;01mtry\u001b[39;00m:\n\u001b[0;32m    343\u001b[0m     object_setattr(__pydantic_self__, \u001b[38;5;124m'\u001b[39m\u001b[38;5;124m__dict__\u001b[39m\u001b[38;5;124m'\u001b[39m, values)\n",
      "\u001b[1;31mValidationError\u001b[0m: 2 validation errors for MultiPromptChain\ndestination_chains -> math\n  Can't instantiate abstract class Chain with abstract methods _call, input_keys, output_keys (type=type_error)\ndestination_chains -> english\n  Can't instantiate abstract class Chain with abstract methods _call, input_keys, output_keys (type=type_error)"
     ]
    }
   ],
   "source": [
    "# 创建MultiPromptChain对象，其中包含了路由链，目标链和默认链。\n",
    "from langchain.chains import MultiPromptChain\n",
    "\n",
    "chain = MultiPromptChain(\n",
    "    router_chain=router_chain,\n",
    "    destination_chains=destination_chains,\n",
    "    default_chain=default_chain,\n",
    "    verbose=True,\n",
    ")"
   ]
  },
  {
   "cell_type": "code",
   "execution_count": null,
   "id": "0f69b2f0-9c58-4041-aa41-202c6f15d17f",
   "metadata": {},
   "outputs": [],
   "source": []
  }
 ],
 "metadata": {
  "kernelspec": {
   "display_name": "llm-py-v3.11",
   "language": "python",
   "name": "llm-3.11"
  },
  "language_info": {
   "codemirror_mode": {
    "name": "ipython",
    "version": 3
   },
   "file_extension": ".py",
   "mimetype": "text/x-python",
   "name": "python",
   "nbconvert_exporter": "python",
   "pygments_lexer": "ipython3",
   "version": "3.11.9"
  }
 },
 "nbformat": 4,
 "nbformat_minor": 5
}
