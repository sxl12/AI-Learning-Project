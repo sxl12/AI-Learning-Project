{
 "cells": [
  {
   "cell_type": "markdown",
   "id": "54d50705-385b-40d7-85a3-74b8922443be",
   "metadata": {},
   "source": [
    "# LLM chain"
   ]
  },
  {
   "cell_type": "code",
   "execution_count": 1,
   "id": "d2fa8da2-dc74-44e3-a185-0b03cc92ba5a",
   "metadata": {},
   "outputs": [],
   "source": [
    "from langchain import chains,PromptTemplate\n",
    "from langchain_openai import OpenAI\n",
    "from langchain.chains import LLMChain\n",
    "\n",
    "model = 'gpt-3.5-turbo-instruct'\n",
    "llm = OpenAI(model=model,temperature =0.8)"
   ]
  },
  {
   "cell_type": "code",
   "execution_count": null,
   "id": "eab2837e-5b23-4994-b464-6626fa458223",
   "metadata": {
    "scrolled": true
   },
   "outputs": [],
   "source": [
    "prompt = PromptTemplate(\n",
    "    input_variables=[\"input\"],\n",
    "    template=\"关于{input}的几个比较出名的品牌，只列出名牌，不做其他介绍\",\n",
    ")\n",
    "\n",
    "llmChain = LLMChain(llm=llm,prompt=prompt)\n"
   ]
  },
  {
   "cell_type": "code",
   "execution_count": null,
   "id": "7387ba57-3c49-49bc-b8f3-4e3c7060cb8e",
   "metadata": {},
   "outputs": [],
   "source": [
    "llmChain.invoke({\n",
    "   \"input\":\"可乐\"\n",
    "})"
   ]
  },
  {
   "cell_type": "markdown",
   "id": "8a1e2b38-8303-409e-9bfa-6f33d5b26d26",
   "metadata": {},
   "source": [
    "# SequentialChain 顺序流式\n",
    " 流水线式允许多个输入输出\n",
    " \n",
    " 上一个chain的输出作为下一个chain的变量，注意是变量不是提示词\n",
    " "
   ]
  },
  {
   "cell_type": "code",
   "execution_count": null,
   "id": "a0a673d6-70b6-4e9b-8470-b866cbdf7e37",
   "metadata": {},
   "outputs": [],
   "source": [
    "# 构建下一个chain\n",
    "template = '''根据以下输入找出属于中国的产品。\n",
    "产品列表：{llm11}\n",
    "以下是属于中国的产品：'''\n",
    "\n",
    "prompt =PromptTemplate(input_variables=['llm11'],template=template)\n",
    "\n",
    "seasrch_chain = LLMChain(llm=llm,prompt=prompt)  \n"
   ]
  },
  {
   "cell_type": "code",
   "execution_count": null,
   "id": "031ba6b2-d86e-47c9-afea-a210b1d68696",
   "metadata": {},
   "outputs": [],
   "source": [
    "\n",
    "from langchain.chains import SimpleSequentialChain\n",
    "\n",
    "over_chain = SimpleSequentialChain(verbose=True, chains=[llmChain,seasrch_chain])\n",
    "over_chain.invoke(\"可乐\")"
   ]
  },
  {
   "cell_type": "markdown",
   "id": "a5f2b6a6-6a31-4ed0-8e65-f58fa922c679",
   "metadata": {},
   "source": [
    "# TransformChain 超长文本处理"
   ]
  },
  {
   "cell_type": "code",
   "execution_count": 3,
   "id": "ee210272-db77-4d04-b523-4c01f7783041",
   "metadata": {},
   "outputs": [],
   "source": [
    "from langchain.chains import TransformChain\n",
    "\n",
    "file_path = r'../../../data/documents/总结.txt'\n",
    "\n",
    "\n",
    "with open(file_path,encoding='utf-8') as f:\n",
    "    doc_file = f.read()"
   ]
  },
  {
   "cell_type": "code",
   "execution_count": 4,
   "id": "bc6c0358-1a22-4e51-af33-f36328925669",
   "metadata": {
    "scrolled": true
   },
   "outputs": [
    {
     "data": {
      "text/plain": [
       "'从去年7月份开营一直到现在，接近7个月过去了，一共24周的课程，一眨眼过去了。回顾这半年多的时光，真的很感慨，放弃了周末的休息，每周末一整天用来听直播课，剩下一天复习加赶作业，加上周中的学习时光，可以说这半年基本放弃了全部周末娱乐和休闲的时间，才能走到今天毕业。\\n\\n最早选择报名这个训练营，是因为有跳槽的想法，但是一直没有合适的跳槽方向，网络安全是这几年比较火的方向，人才需求量大，希望通过学习可以实现跳槽加薪。我目前从事的是产品经理岗位，可以说并没有相关的知识背景，学习起来还是不轻松的，需要直播加复习的方式才能搞懂知识点和实操。\\n\\n好在两位授课老师人都非常好，讲课经验丰富，知识点的前后安排得当，由浅入深，逐步让我入了网安的大门。我对网安的工作模式也渐渐了解了一些，两位老师经常做一些拓展，学习方式上的，也有人生努力方向上的，这种收获比单纯的知识点帮助更大，非常感谢两位老师。\\n\\n目前还没有跳槽，互联网行业大裁员同样波及到了网安，还有其他从业者。转到网安工作也需要勇气，越学越觉得目前的知识和能力不够用，这是一门实践性很强的学科，需要有大量的实践经验才能掌握和提升。而想要获得积累，最好的方式是进大厂，才有更多的历练机会，小公司往往不重视，无法实现快速的成长。大厂难进，大厂主要都在大城市，这也成了择业的一个考量因素。选择了网安，就意味着失去了小城市工作的机会，不得不在大城市漂泊和卷。这也是过去没有考虑到的一点。\\n\\n当然这并不是说学了课程没有用，网安值得每个人重视起来，学习这门课程会让人有全新的视角，攻击方和防守方的视角，这是平常做软件系统容易忽视的地方，安全从来是相对的，道高一尺魔高一丈，安全也是永续发展的，不持续学习就会面临落伍和淘汰。\\n\\n这是学习的意义，不能停下脚步，必须永远向前。\\n\\n最后谈谈建议，课程很优质，但是缺少靶场练习，自建靶场还是内容偏少的，希望老师推荐更多的靶场用于尝试。\\n\\n除了上面夸过的两位授课老师，还要夸一夸助教，对班级群里问题的回答很及时，基本都能得到响应，作业批改也很认真。再夸一夸班班，每周提醒我们上课，上传课件和视频，统计考勤和毕业信息，经常帮助我们催助教和老师回答问题，经常关心我们的学习进度，是非常负责贴心暖心的班班！还有，感谢班级群里热心的同学，在助教还没来得及答疑的时候，他们很热心地回答了我的问题，解答我的疑惑，真的是非常友善可爱的同学们！\\n\\n感谢这门课程，感谢相遇，感谢这段难忘的学习之旅！'"
      ]
     },
     "execution_count": 4,
     "metadata": {},
     "output_type": "execute_result"
    }
   ],
   "source": [
    "doc_file"
   ]
  },
  {
   "cell_type": "code",
   "execution_count": 17,
   "id": "a248e41a-9f23-4b2b-a4e3-fcde8c250a32",
   "metadata": {},
   "outputs": [],
   "source": [
    "def transform_func(inputs: dict) -> dict:\n",
    "    text = inputs[\"text\"]\n",
    "    # 截取前三行\n",
    "    # short_text =\"\\n\".join( text.split(\"\\n\")[:3])\n",
    "    short_text = text[:1000]\n",
    "    return {\"outputs\":short_text}"
   ]
  },
  {
   "cell_type": "code",
   "execution_count": 18,
   "id": "679973f7-90ce-4eab-bebd-7b59b7f27f57",
   "metadata": {},
   "outputs": [],
   "source": [
    "# 构建 TransformChain\n",
    "transform_chain = TransformChain(\n",
    "    input_variables=[\"text\"],\n",
    "    output_variables=[\"outputs\"],\n",
    "    transform=transform_func,\n",
    "    verbose=True\n",
    ")"
   ]
  },
  {
   "cell_type": "code",
   "execution_count": 19,
   "id": "ef6afd7f-93e8-45b1-b946-e5ce185567d3",
   "metadata": {},
   "outputs": [
    {
     "name": "stdout",
     "output_type": "stream",
     "text": [
      "\n",
      "\n",
      "\u001b[1m> Entering new TransformChain chain...\u001b[0m\n",
      "\n",
      "\u001b[1m> Finished chain.\u001b[0m\n"
     ]
    }
   ],
   "source": [
    "transformed_text = transform_chain(doc_file)"
   ]
  },
  {
   "cell_type": "code",
   "execution_count": 20,
   "id": "ca1b56b8-cd3c-4daa-9281-749fb0ecc6bc",
   "metadata": {},
   "outputs": [
    {
     "data": {
      "text/plain": [
       "{'text': '从去年7月份开营一直到现在，接近7个月过去了，一共24周的课程，一眨眼过去了。回顾这半年多的时光，真的很感慨，放弃了周末的休息，每周末一整天用来听直播课，剩下一天复习加赶作业，加上周中的学习时光，可以说这半年基本放弃了全部周末娱乐和休闲的时间，才能走到今天毕业。\\n\\n最早选择报名这个训练营，是因为有跳槽的想法，但是一直没有合适的跳槽方向，网络安全是这几年比较火的方向，人才需求量大，希望通过学习可以实现跳槽加薪。我目前从事的是产品经理岗位，可以说并没有相关的知识背景，学习起来还是不轻松的，需要直播加复习的方式才能搞懂知识点和实操。\\n\\n好在两位授课老师人都非常好，讲课经验丰富，知识点的前后安排得当，由浅入深，逐步让我入了网安的大门。我对网安的工作模式也渐渐了解了一些，两位老师经常做一些拓展，学习方式上的，也有人生努力方向上的，这种收获比单纯的知识点帮助更大，非常感谢两位老师。\\n\\n目前还没有跳槽，互联网行业大裁员同样波及到了网安，还有其他从业者。转到网安工作也需要勇气，越学越觉得目前的知识和能力不够用，这是一门实践性很强的学科，需要有大量的实践经验才能掌握和提升。而想要获得积累，最好的方式是进大厂，才有更多的历练机会，小公司往往不重视，无法实现快速的成长。大厂难进，大厂主要都在大城市，这也成了择业的一个考量因素。选择了网安，就意味着失去了小城市工作的机会，不得不在大城市漂泊和卷。这也是过去没有考虑到的一点。\\n\\n当然这并不是说学了课程没有用，网安值得每个人重视起来，学习这门课程会让人有全新的视角，攻击方和防守方的视角，这是平常做软件系统容易忽视的地方，安全从来是相对的，道高一尺魔高一丈，安全也是永续发展的，不持续学习就会面临落伍和淘汰。\\n\\n这是学习的意义，不能停下脚步，必须永远向前。\\n\\n最后谈谈建议，课程很优质，但是缺少靶场练习，自建靶场还是内容偏少的，希望老师推荐更多的靶场用于尝试。\\n\\n除了上面夸过的两位授课老师，还要夸一夸助教，对班级群里问题的回答很及时，基本都能得到响应，作业批改也很认真。再夸一夸班班，每周提醒我们上课，上传课件和视频，统计考勤和毕业信息，经常帮助我们催助教和老师回答问题，经常关心我们的学习进度，是非常负责贴心暖心的班班！还有，感谢班级群里热心的同学，在助教还没来得及答疑的时候，他们很热心地回答了我的问题，解答我的疑惑，真的是非常友善可爱的同学们！\\n\\n感谢这门课程，感谢相遇，感谢这段难忘的学习之旅！',\n",
       " 'outputs': '从去年7月份开营一直到现在，接近7个月过去了，一共24周的课程，一眨眼过去了。回顾这半年多的时光，真的很感慨，放弃了周末的休息，每周末一整天用来听直播课，剩下一天复习加赶作业，加上周中的学习时光，可以'}"
      ]
     },
     "execution_count": 20,
     "metadata": {},
     "output_type": "execute_result"
    }
   ],
   "source": [
    "transformed_text"
   ]
  },
  {
   "cell_type": "code",
   "execution_count": null,
   "id": "e6cc946a-6d8e-47ff-aa0d-1c424da7bcdd",
   "metadata": {},
   "outputs": [],
   "source": []
  }
 ],
 "metadata": {
  "kernelspec": {
   "display_name": "llm-py-v3.11",
   "language": "python",
   "name": "llm-3.11"
  },
  "language_info": {
   "codemirror_mode": {
    "name": "ipython",
    "version": 3
   },
   "file_extension": ".py",
   "mimetype": "text/x-python",
   "name": "python",
   "nbconvert_exporter": "python",
   "pygments_lexer": "ipython3",
   "version": "3.11.9"
  }
 },
 "nbformat": 4,
 "nbformat_minor": 5
}
