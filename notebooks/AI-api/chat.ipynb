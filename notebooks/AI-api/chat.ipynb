{
 "cells": [
  {
   "cell_type": "code",
   "execution_count": 16,
   "id": "d0a10e56-0764-466d-bfa2-b1ff079966ce",
   "metadata": {},
   "outputs": [],
   "source": [
    "from openai import OpenAI\n",
    "\n",
    "client = OpenAI()\n",
    "model='gpt-4o-mini'"
   ]
  },
  {
   "cell_type": "code",
   "execution_count": 14,
   "id": "ead0e8e2-00b7-48ec-b5d8-78a5a0b259b9",
   "metadata": {},
   "outputs": [
    {
     "name": "stdout",
     "output_type": "stream",
     "text": [
      "Hello! How can I assist you today?\n"
     ]
    }
   ],
   "source": [
    "data = client.chat.completions.create(\n",
    "    \n",
    "    model=model,\n",
    "    messages=[\n",
    "        {\"role\":\"user\",\"content\":\"hello\"}\n",
    "    ]\n",
    ")\n",
    "print(data.choices[0].message.content)"
   ]
  },
  {
   "cell_type": "code",
   "execution_count": 15,
   "id": "dcb068d3-6334-4ab8-a1fb-9e456719d53a",
   "metadata": {},
   "outputs": [],
   "source": [
    "chat_history = []\n",
    "\n",
    "def multi_chat(message):\n",
    "    chat_history.append({\"role\":\"user\",\"content\":message})\n",
    "    try:\n",
    "        completion = client.chat.completions.create(\n",
    "            model=model,\n",
    "            messages=chat_history\n",
    "        )\n",
    "    except Exception:\n",
    "        raise\n",
    "    assistant_message = completion.choices[0].message.content\n",
    "    print(assistant_message)\n",
    "    chat_history.append({\"role\":\"assistant\",\"content\":assistant_message})\n",
    "    "
   ]
  },
  {
   "cell_type": "code",
   "execution_count": 18,
   "id": "d6a61020-1f91-4f9f-b9ff-f267e1bd878f",
   "metadata": {},
   "outputs": [
    {
     "name": "stdout",
     "output_type": "stream",
     "text": [
      "Hello! How can I assist you today?\n",
      "Sure! Here you go: 5\n",
      "[{'role': 'user', 'content': '1.hello 2.give me five'}, {'role': 'assistant', 'content': 'Hello! \\n\\nSure, here are five: 1, 2, 3, 4, 5.'}, {'role': 'user', 'content': 'hello'}, {'role': 'assistant', 'content': 'Hello! How can I assist you today?'}, {'role': 'user', 'content': 'give me five'}, {'role': 'assistant', 'content': 'Sure! Here you go: 5'}]\n"
     ]
    }
   ],
   "source": [
    "multi_chat(\"hello\")\n",
    "multi_chat(\"give me five\")\n",
    "print(chat_history)"
   ]
  },
  {
   "cell_type": "code",
   "execution_count": 17,
   "id": "e932029c-ab01-405d-ac63-e8df795fc4cf",
   "metadata": {},
   "outputs": [
    {
     "name": "stdout",
     "output_type": "stream",
     "text": [
      "[{'role': 'user', 'content': '1.hello 2.give me five'}, {'role': 'assistant', 'content': 'Hello! \\n\\nSure, here are five: 1, 2, 3, 4, 5.'}]\n"
     ]
    }
   ],
   "source": [
    "print(chat_history)"
   ]
  },
  {
   "cell_type": "markdown",
   "id": "22648505-1999-4688-93e8-a792208fecfc",
   "metadata": {},
   "source": [
    "# 流式输出"
   ]
  },
  {
   "cell_type": "code",
   "execution_count": 9,
   "id": "f95bcf29-7425-4f5d-b499-95575355c67d",
   "metadata": {
    "scrolled": true
   },
   "outputs": [
    {
     "name": "stdout",
     "output_type": "stream",
     "text": [
      " 谢谢 夸 奖 ！ 我 会 继续 努力 为 你 提供 帮助 的 。如果 你 有什么 问题 或 需要 讨论 的 ， 随 时 告诉 我 ！ "
     ]
    }
   ],
   "source": [
    "streams = client.chat.completions.create(\n",
    "    model=model,\n",
    "    messages=[\n",
    "        {\"role\":\"user\",\"content\":\"说你很乖\"}\n",
    "    ],\n",
    "   \n",
    "    stream=True\n",
    ")\n",
    "\n",
    "for chunk in streams:\n",
    "    content = chunk.choices[0].delta.content\n",
    "    if content is not None:\n",
    "        print(content ,end=\" \")"
   ]
  },
  {
   "cell_type": "markdown",
   "id": "d4f3f484-0336-4d66-842f-d7278d4b2b2b",
   "metadata": {},
   "source": [
    "# 记录 x-request-id"
   ]
  },
  {
   "cell_type": "code",
   "execution_count": 29,
   "id": "d2676b72-b9e7-40a5-8909-22cfe690e4fa",
   "metadata": {},
   "outputs": [],
   "source": [
    "raw_response = client.chat.completions.with_raw_response.create(\n",
    "    messages=[{\n",
    "        \"role\": \"user\",\n",
    "        \"content\": \"Say this is a test\",\n",
    "    }],\n",
    "    model=model,\n",
    ")\n"
   ]
  },
  {
   "cell_type": "code",
   "execution_count": 33,
   "id": "fc1b19d0-87f6-483d-b6d5-50cac5ae2675",
   "metadata": {},
   "outputs": [
    {
     "name": "stdout",
     "output_type": "stream",
     "text": [
      "<Response [200 OK]>\n",
      "<Request('POST', 'https://api.openai.com/v1/chat/completions')>\n",
      "Headers({'date': 'Mon, 09 Sep 2024 16:24:24 GMT', 'content-type': 'application/json', 'transfer-encoding': 'chunked', 'connection': 'keep-alive', 'access-control-expose-headers': 'X-Request-ID', 'openai-organization': '123-dlwvu7', 'openai-processing-ms': '146', 'openai-version': '2020-10-01', 'strict-transport-security': 'max-age=15552000; includeSubDomains; preload', 'x-ratelimit-limit-requests': '5000', 'x-ratelimit-limit-tokens': '2000000', 'x-ratelimit-remaining-requests': '4999', 'x-ratelimit-remaining-tokens': '1999978', 'x-ratelimit-reset-requests': '12ms', 'x-ratelimit-reset-tokens': '0s', 'x-request-id': 'req_8d3b05bb816b017763424cea372f809d', 'cf-cache-status': 'DYNAMIC', 'x-content-type-options': 'nosniff', 'server': 'cloudflare', 'cf-ray': '8c08873ddb0f6851-NRT', 'content-encoding': 'gzip', 'alt-svc': 'h3=\":443\"; ma=86400'})\n"
     ]
    }
   ],
   "source": [
    "print(raw_response.http_response)\n",
    "print(raw_response.http_request)\n",
    "print(raw_response.headers)"
   ]
  },
  {
   "cell_type": "code",
   "execution_count": 22,
   "id": "44999233-9fbf-4da4-b68b-7e1ff29f1235",
   "metadata": {},
   "outputs": [
    {
     "data": {
      "text/plain": [
       "'req_27821f110bcb7701382d457567be3b95'"
      ]
     },
     "execution_count": 22,
     "metadata": {},
     "output_type": "execute_result"
    }
   ],
   "source": [
    "print(raw_response.headers.get('x-request-id'))"
   ]
  },
  {
   "cell_type": "code",
   "execution_count": 25,
   "id": "20b2bb00-7b9f-45d2-8a3f-f41e357c4fb6",
   "metadata": {},
   "outputs": [
    {
     "data": {
      "text/plain": [
       "'req_27821f110bcb7701382d457567be3b95'"
      ]
     },
     "execution_count": 25,
     "metadata": {},
     "output_type": "execute_result"
    }
   ],
   "source": [
    "print(raw_response.request_id)"
   ]
  },
  {
   "cell_type": "code",
   "execution_count": 28,
   "id": "8bd826d4-8915-45c1-abd2-fe519f3f3aee",
   "metadata": {},
   "outputs": [
    {
     "data": {
      "text/plain": [
       "ChatCompletion(id='chatcmpl-A5bOUXhzi2bUFSxuNqPku5jqaX2rB', choices=[Choice(finish_reason='stop', index=0, logprobs=None, message=ChatCompletionMessage(content='This is a test! How can I assist you further?', refusal=None, role='assistant', function_call=None, tool_calls=None))], created=1725898746, model='gpt-4o-mini-2024-07-18', object='chat.completion', service_tier=None, system_fingerprint='fp_483d39d857', usage=CompletionUsage(completion_tokens=12, prompt_tokens=12, total_tokens=24))"
      ]
     },
     "execution_count": 28,
     "metadata": {},
     "output_type": "execute_result"
    }
   ],
   "source": [
    "print(raw_response.parse())"
   ]
  },
  {
   "cell_type": "code",
   "execution_count": null,
   "id": "1f650752-a5a9-4194-a90e-abc923f8df18",
   "metadata": {},
   "outputs": [],
   "source": []
  }
 ],
 "metadata": {
  "kernelspec": {
   "display_name": "llm-py-v3.11",
   "language": "python",
   "name": "llm-3.11"
  },
  "language_info": {
   "codemirror_mode": {
    "name": "ipython",
    "version": 3
   },
   "file_extension": ".py",
   "mimetype": "text/x-python",
   "name": "python",
   "nbconvert_exporter": "python",
   "pygments_lexer": "ipython3",
   "version": "3.11.9"
  }
 },
 "nbformat": 4,
 "nbformat_minor": 5
}
