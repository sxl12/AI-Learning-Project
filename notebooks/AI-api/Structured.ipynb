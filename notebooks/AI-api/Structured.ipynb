{
 "cells": [
  {
   "cell_type": "code",
   "execution_count": 3,
   "id": "6d68cc26-1b6e-4192-b239-65c660a7279d",
   "metadata": {},
   "outputs": [],
   "source": [
    "from pydantic import BaseModel\n",
    "from openai import OpenAI\n",
    "\n",
    "class StructuredModelDemo(BaseModel):\n",
    "    name: str\n",
    "    date: str\n",
    "    participants: list[str]\n",
    "\n",
    "client = OpenAI()\n",
    "complection = client.beta.chat.completions.parse(\n",
    "    model=\"gpt-4o-mini\",\n",
    "    messages=[\n",
    "        \n",
    "        {\"role\": \"system\", \"content\": \"Extract the event information.\"},\n",
    "        {\"role\": \"user\", \"content\": \"Alice and Bob are going to a science fair on Friday.\"},\n",
    "    ],\n",
    "    response_format=StructuredModelDemo\n",
    ")        "
   ]
  },
  {
   "cell_type": "code",
   "execution_count": 8,
   "id": "0128bb11-d734-443e-b001-2bf3e9cc80e1",
   "metadata": {},
   "outputs": [
    {
     "data": {
      "text/plain": [
       "'{\"name\":\"Science Fair\",\"date\":\"Friday\",\"participants\":[\"Alice\",\"Bob\"]}'"
      ]
     },
     "execution_count": 8,
     "metadata": {},
     "output_type": "execute_result"
    }
   ],
   "source": [
    "complection.choices[0].message.content"
   ]
  },
  {
   "cell_type": "code",
   "execution_count": 12,
   "id": "7dde1cd1-43f8-4c38-b9a7-4b011c039098",
   "metadata": {},
   "outputs": [
    {
     "data": {
      "text/plain": [
       "StructuredModelDemo(name='Science Fair', date='Friday', participants=['Alice', 'Bob'])"
      ]
     },
     "execution_count": 12,
     "metadata": {},
     "output_type": "execute_result"
    }
   ],
   "source": [
    "complection.choices[0].message.parsed"
   ]
  },
  {
   "cell_type": "markdown",
   "id": "5b4e042a-9b37-4155-a395-f4f4f39f0b81",
   "metadata": {},
   "source": [
    "Put simply:\n",
    "If you are connecting the model to tools, functions, data, etc. in your system, then you should use function calling\n",
    "If you want to structure the model's output when it responds to the user, then you should use a structured response_format\n",
    "\n",
    "引用官方文档  https://platform.openai.com/docs/guides/structured-outputs/introduction"
   ]
  },
  {
   "cell_type": "code",
   "execution_count": null,
   "id": "e264a98e-8623-4d3a-a25a-ff963b4d9842",
   "metadata": {},
   "outputs": [],
   "source": []
  }
 ],
 "metadata": {
  "kernelspec": {
   "display_name": "llm-py-v3.11",
   "language": "python",
   "name": "llm-3.11"
  },
  "language_info": {
   "codemirror_mode": {
    "name": "ipython",
    "version": 3
   },
   "file_extension": ".py",
   "mimetype": "text/x-python",
   "name": "python",
   "nbconvert_exporter": "python",
   "pygments_lexer": "ipython3",
   "version": "3.11.9"
  }
 },
 "nbformat": 4,
 "nbformat_minor": 5
}
