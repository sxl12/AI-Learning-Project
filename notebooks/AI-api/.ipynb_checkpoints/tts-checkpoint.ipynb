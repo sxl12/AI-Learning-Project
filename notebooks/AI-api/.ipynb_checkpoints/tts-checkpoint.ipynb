{
 "cells": [
  {
   "cell_type": "code",
   "execution_count": 8,
   "id": "c72d9d34-7d78-4761-9747-517b92198360",
   "metadata": {},
   "outputs": [
    {
     "name": "stdin",
     "output_type": "stream",
     "text": [
      "请输入需要转化的文字： 今天天气不错哟\n"
     ]
    }
   ],
   "source": [
    "# 文本转语音\n",
    "import openai\n",
    "import time\n",
    "\n",
    "model =\"tts-1\"\n",
    "voice = \"onyx\"\n",
    "input_str = input(\"请输入需要转化的文字：\")\n",
    "save_path = '../../data/audio/audio-01.mp3'\n",
    "with openai.audio.speech.with_streaming_response.create(\n",
    "    model=model,\n",
    "    voice= voice,\n",
    "    input=input_str\n",
    ") as response:\n",
    "    response.stream_to_file(save_path)"
   ]
  },
  {
   "cell_type": "markdown",
   "id": "090e967e-b836-450c-a9dd-6e24307ac8df",
   "metadata": {},
   "source": [
    "# Request body\n",
    "\n",
    "model\n",
    "string\n",
    "\n",
    "Required\n",
    "One of the available TTS models: tts-1 or tts-1-hd\n",
    "\n",
    "input\n",
    "string\n",
    "\n",
    "Required\n",
    "The text to generate audio for. The maximum length is 4096 characters.\n",
    "\n",
    "voice\n",
    "string\n",
    "\n",
    "Required\n",
    "The voice to use when generating the audio. Supported voices are alloy, echo, fable, onyx, nova, and shimmer. Previews of the voices are available in the Text to speech guide.\n",
    "\n",
    "response_format\n",
    "string\n",
    "\n",
    "Optional\n",
    "Defaults to mp3\n",
    "The format to audio in. Supported formats are mp3, opus, aac, flac, wav, and pcm.\n",
    "\n",
    "speed\n",
    "number\n",
    "\n",
    "Optional\n",
    "Defaults to 1\n",
    "The speed of the generated audio. Select a value from 0.25 to 4.0. 1.0 is the default."
   ]
  },
  {
   "cell_type": "code",
   "execution_count": 1,
   "id": "6d4cda4a-ce68-467a-a222-128b2b40f4f0",
   "metadata": {},
   "outputs": [
    {
     "name": "stderr",
     "output_type": "stream",
     "text": [
      "C:\\Users\\sxl\\AppData\\Local\\Temp\\ipykernel_2720\\3749934965.py:11: DeprecationWarning: Due to a bug, this method doesn't actually stream the response content, `.with_streaming_response.method()` should be used instead\n",
      "  response.stream_to_file(save_path)\n"
     ]
    }
   ],
   "source": [
    "from pathlib import Path\n",
    "import openai\n",
    "\n",
    "# speech_file_path = Path(__file__).parent / \"speech.mp3\"\n",
    "save_path = '../../data/audio/dog-01.mp3'\n",
    "response = openai.audio.speech.create(\n",
    "  model=\"tts-1\",\n",
    "  voice=\"alloy\",\n",
    "  input=\"The quick brown fox jumped over the lazy dog.\"\n",
    ")\n",
    "# 文件会存储成功，但是会提示waring\n",
    "response.stream_to_file(save_path)\n"
   ]
  },
  {
   "cell_type": "code",
   "execution_count": null,
   "id": "11df4dee-7b79-4329-b9b4-41e5f9198f78",
   "metadata": {},
   "outputs": [],
   "source": []
  }
 ],
 "metadata": {
  "kernelspec": {
   "display_name": "llm-py-v3.11",
   "language": "python",
   "name": "llm-3.11"
  },
  "language_info": {
   "codemirror_mode": {
    "name": "ipython",
    "version": 3
   },
   "file_extension": ".py",
   "mimetype": "text/x-python",
   "name": "python",
   "nbconvert_exporter": "python",
   "pygments_lexer": "ipython3",
   "version": "3.11.9"
  }
 },
 "nbformat": 4,
 "nbformat_minor": 5
}
