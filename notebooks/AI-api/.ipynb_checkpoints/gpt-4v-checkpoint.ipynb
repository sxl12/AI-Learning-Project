{
 "cells": [
  {
   "cell_type": "markdown",
   "id": "0dacb53e-b294-49fa-a73e-5f873b235373",
   "metadata": {},
   "source": [
    "# 图像解析"
   ]
  },
  {
   "cell_type": "code",
   "execution_count": 24,
   "id": "e39611ce-de45-4156-87c4-2e14eb0341d1",
   "metadata": {},
   "outputs": [],
   "source": [
    "# 图像解析\n",
    "from openai import OpenAI\n",
    "\n",
    "client = OpenAI()\n",
    "model = \"gpt-4-turbo\"\n",
    "image_url = \"https://img-s-msn-com.akamaized.net/tenant/amp/entityid/BB1pA0iX.img?w=575&h=368&m=6\"\n",
    "completion = client.chat.completions.create(\n",
    "    model=model,\n",
    "    messages=[\n",
    "        {\n",
    "            \"role\":\"user\",\n",
    "            \"content\":[\n",
    "                {\"type\":\"text\",\"text\":\"describe the image\"},\n",
    "                {\n",
    "                    \"type\":\"image_url\",\n",
    "                    \"image_url\":{\n",
    "                        \"url\":image_url\n",
    "                    }\n",
    "                }\n",
    "            ]\n",
    "        }\n",
    "    ]\n",
    ")\n"
   ]
  },
  {
   "cell_type": "code",
   "execution_count": 6,
   "id": "042636a6-76fd-467b-af92-1d8551e309b7",
   "metadata": {
    "scrolled": true
   },
   "outputs": [
    {
     "name": "stdout",
     "output_type": "stream",
     "text": [
      "The image features several heads of fresh cauliflower. Each cauliflower head is surrounded by its green leaves, and some of the leaves carry small water droplets, suggesting they are fresh or have been recently washed. The cauliflowers are placed in a cardboard box, indicating they might be on display for sale, possibly at a farmer's market or a grocery store. The image is focused on the texture and fresh appearance of the cauliflowers, highlighting their whiteness and the vibrant green of the leaves.\n"
     ]
    }
   ],
   "source": [
    "print(completion.choices[0].message.content)"
   ]
  },
  {
   "cell_type": "markdown",
   "id": "bb0bc5cd-e9a3-4c82-adbc-36f59d94d5e1",
   "metadata": {},
   "source": [
    "# 多幅图片"
   ]
  },
  {
   "cell_type": "code",
   "execution_count": 7,
   "id": "4132d526-3df2-4134-aedb-f1ae526c5cd1",
   "metadata": {},
   "outputs": [],
   "source": [
    "# 多幅图片\n",
    "image2_url = \"https://img-s-msn-com.akamaized.net/tenant/amp/entityid/AA1pY96P.img?w=768&h=512&m=6\"\n",
    "completion = client.chat.completions.create(\n",
    "    model=model,\n",
    "    messages=[\n",
    "        {\n",
    "            \"role\":\"user\",\n",
    "            \"content\":[\n",
    "                {\n",
    "                    \"type\":\"text\",\"text\":\"下面那副图片看上去更健康\"\n",
    "                },\n",
    "                {\n",
    "                    \"type\":\"image_url\",\n",
    "                    \"image_url\":{\n",
    "                        \"url\":image_url\n",
    "                    }\n",
    "                },\n",
    "                {\n",
    "                    \"type\":\"image_url\",\n",
    "                    \"image_url\":{\n",
    "                        \"url\":image2_url\n",
    "                    }\n",
    "                }\n",
    "                \n",
    "            ]\n",
    "        }\n",
    "    ]\n",
    ")"
   ]
  },
  {
   "cell_type": "code",
   "execution_count": 9,
   "id": "430648db-e4a4-47e0-97ed-e7f741625361",
   "metadata": {},
   "outputs": [
    {
     "name": "stdout",
     "output_type": "stream",
     "text": [
      "这两副图片都代表了健康的食物选项，但是花椰菜这张图可能会被视为更健康的选择。花椰菜富含纤维、维生素C和K，以及其他多种营养素，对健康有很多益处，例如助于消炎、提高免疫力和促进心血管健康。\n",
      "\n",
      "而鸡蛋虽然蛋白质丰富、含有多种维生素和矿物质，但是对于需要限制胆固醇摄入的人来说，可能需要适量食用。因此，从蔬菜的多样性和低脂肪、低胆固醇的角度来看，花椰菜显得更加健康。\n"
     ]
    }
   ],
   "source": [
    "print(completion.choices[0].message.content)"
   ]
  },
  {
   "cell_type": "markdown",
   "id": "d263fdac-e205-4dcb-a529-5f0e2ac3b1ab",
   "metadata": {},
   "source": [
    "# 本地图片转换base64格式进行上传"
   ]
  },
  {
   "cell_type": "code",
   "execution_count": null,
   "id": "499d5baf-95b8-45ad-b2b1-20687568ee71",
   "metadata": {},
   "outputs": [],
   "source": [
    "# 本地图片转换base64格式进行上传\n",
    "import base64\n",
    "\n",
    "def encode_image(image_path):\n",
    "    with open(image_path,\"rb\") as image_file:\n",
    "        return base64.b64encode(image_file.read()).decode(\"utf-8\")\n",
    "        \n",
    "local_image = \"../../data/image/demo.png\"\n",
    "base64_image = encode_image(local_image)\n",
    "\n",
    "completion = client.chat.completions.create(\n",
    "    model=model,\n",
    "    max_tokens=300,\n",
    "    messages=[\n",
    "        {\n",
    "            \"role\":\"user\",\n",
    "            \"content\":[\n",
    "                {\"type\":\"text\",\"text\":\"描述图片内容\"},\n",
    "                {\n",
    "                    \"type\":\"image_url\",\n",
    "                     \"image_url\":{\n",
    "                         \"url\": f\"data:image/jpeg;base64,{base64_image}\"\n",
    "                     }\n",
    "                 }\n",
    "            ]\n",
    "        }\n",
    "    ]\n",
    ")\n"
   ]
  },
  {
   "cell_type": "code",
   "execution_count": 23,
   "id": "aa750226-2314-4297-914c-e24a90a77e08",
   "metadata": {
    "scrolled": true
   },
   "outputs": [
    {
     "name": "stdout",
     "output_type": "stream",
     "text": [
      "这张图片描绘了一位年轻的女性动漫人物，她穿着冬季衣物，包括一件深紫色的羽绒外套和一个蓝色的围巾。她的头戴着一顶带有球形装饰的浅灰色毛线帽，蓝色的眼睛看起来非常生动。这个角色看上去非常友好和开心，微笑着。整体色调和服装细节传达出温暖和冬季的氛围。\n"
     ]
    }
   ],
   "source": [
    "print(completion.choices[0].message.content)"
   ]
  },
  {
   "cell_type": "markdown",
   "id": "ab0203f3-3e2d-4edd-b933-4129f907cc4b",
   "metadata": {},
   "source": [
    "# 注意\n",
    "## 1.注意图像的质量可以选择low/high/auto,默认auto,上传图片会计算token\n",
    "## 2.长时间会话，建议使用url非base64,而且最好进行大小处理"
   ]
  },
  {
   "cell_type": "code",
   "execution_count": null,
   "id": "9e196b0f-e989-4ab9-b232-fbb7c8e4b5d7",
   "metadata": {},
   "outputs": [],
   "source": [
    "# 注意\n",
    "# \n",
    " messages=[\n",
    "    {\n",
    "      \"role\": \"user\",\n",
    "      \"content\": [\n",
    "        {\"type\": \"text\", \"text\": \"What’s in this image?\"},\n",
    "        {\n",
    "          \"type\": \"image_url\",\n",
    "          \"image_url\": {\n",
    "            \"url\": \"https://upload.wikimedia.org/wikipedia/commons/thumb/d/dd/Gfp-wisconsin-madison-the-nature-boardwalk.jpg/2560px-Gfp-wisconsin-madison-the-nature-boardwalk.jpg\",\n",
    "            \"detail\": \"high\" # high/low/auto\n",
    "          },\n",
    "        },\n",
    "      ],\n",
    "    }\n",
    "  ]"
   ]
  },
  {
   "cell_type": "markdown",
   "id": "5ad62722-10ac-4eb4-913f-6f61b5c108f4",
   "metadata": {},
   "source": [
    "# 结合tts生成解说\n",
    "## 需要做的有三点：\n",
    "  ### 1.捕获界面图像\n",
    "  ### 2.图像生成介绍\n",
    "  ### 3.介绍生成语音"
   ]
  },
  {
   "cell_type": "code",
   "execution_count": null,
   "id": "87c63285-dc2f-4fb5-b5aa-c7e3dec85d5b",
   "metadata": {},
   "outputs": [],
   "source": [
    "# 1.捕获界面图像\n",
    "\n",
    "import cv"
   ]
  },
  {
   "cell_type": "code",
   "execution_count": null,
   "id": "57da24e2-7852-4b43-b0a3-f519934473d3",
   "metadata": {},
   "outputs": [],
   "source": []
  }
 ],
 "metadata": {
  "kernelspec": {
   "display_name": "llm-py-v3.11",
   "language": "python",
   "name": "llm-3.11"
  },
  "language_info": {
   "codemirror_mode": {
    "name": "ipython",
    "version": 3
   },
   "file_extension": ".py",
   "mimetype": "text/x-python",
   "name": "python",
   "nbconvert_exporter": "python",
   "pygments_lexer": "ipython3",
   "version": "3.11.9"
  }
 },
 "nbformat": 4,
 "nbformat_minor": 5
}
