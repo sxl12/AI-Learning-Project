{
 "cells": [
  {
   "cell_type": "code",
   "execution_count": 7,
   "id": "32d65c73-a376-4827-877c-4bfae5f30dff",
   "metadata": {
    "scrolled": true
   },
   "outputs": [
    {
     "name": "stdout",
     "output_type": "stream",
     "text": [
      "gpt-4-1106-preview\n",
      "text-embedding-3-small\n",
      "tts-1-1106\n",
      "dall-e-2\n",
      "tts-1\n",
      "tts-1-hd-1106\n",
      "tts-1-hd\n",
      "dall-e-3\n",
      "whisper-1\n",
      "gpt-4-turbo\n",
      "gpt-4-turbo-2024-04-09\n",
      "gpt-4-0125-preview\n",
      "gpt-3.5-turbo\n",
      "gpt-4-turbo-preview\n",
      "gpt-3.5-turbo-0125\n",
      "gpt-4o-mini-2024-07-18\n",
      "gpt-3.5-turbo-1106\n",
      "gpt-4o-mini\n",
      "gpt-3.5-turbo-16k\n",
      "gpt-3.5-turbo-instruct-0914\n",
      "gpt-4\n",
      "gpt-4-0613\n",
      "gpt-3.5-turbo-instruct\n",
      "chatgpt-4o-latest\n",
      "gpt-4o\n",
      "gpt-4o-2024-05-13\n",
      "gpt-4o-2024-08-06\n",
      "babbage-002\n",
      "davinci-002\n",
      "text-embedding-3-large\n",
      "text-embedding-ada-002\n"
     ]
    }
   ],
   "source": [
    "import openai\n",
    "models = openai.models.list()\n",
    "\n",
    "for model in models:\n",
    "    print(model.id)"
   ]
  },
  {
   "cell_type": "code",
   "execution_count": 11,
   "id": "c1deb013-b097-4683-a68c-e32ca7ffc403",
   "metadata": {},
   "outputs": [
    {
     "name": "stdout",
     "output_type": "stream",
     "text": [
      "['gpt-4-1106-preview', 'text-embedding-3-small', 'tts-1-1106', 'dall-e-2', 'tts-1', 'tts-1-hd-1106', 'tts-1-hd', 'dall-e-3', 'whisper-1', 'gpt-4-turbo', 'gpt-4-turbo-2024-04-09', 'gpt-4-0125-preview', 'gpt-3.5-turbo', 'gpt-4-turbo-preview', 'gpt-3.5-turbo-0125', 'gpt-4o-mini-2024-07-18', 'gpt-3.5-turbo-1106', 'gpt-4o-mini', 'gpt-3.5-turbo-16k', 'gpt-3.5-turbo-instruct-0914', 'gpt-4', 'gpt-4-0613', 'gpt-3.5-turbo-instruct', 'chatgpt-4o-latest', 'gpt-4o', 'gpt-4o-2024-05-13', 'gpt-4o-2024-08-06', 'babbage-002', 'davinci-002', 'text-embedding-3-large', 'text-embedding-ada-002']\n"
     ]
    }
   ],
   "source": [
    "model_list = [model.id for model in models.data]\n",
    "print(model_list)"
   ]
  },
  {
   "cell_type": "code",
   "execution_count": 10,
   "id": "eb1de097-1366-4adf-b392-a05ccd1e8d1d",
   "metadata": {
    "scrolled": true
   },
   "outputs": [
    {
     "data": {
      "text/plain": [
       "['gpt-4-1106-preview',\n",
       " 'text-embedding-3-small',\n",
       " 'tts-1-1106',\n",
       " 'dall-e-2',\n",
       " 'tts-1',\n",
       " 'tts-1-hd-1106',\n",
       " 'tts-1-hd',\n",
       " 'dall-e-3',\n",
       " 'whisper-1',\n",
       " 'gpt-4-turbo',\n",
       " 'gpt-4-turbo-2024-04-09',\n",
       " 'gpt-4-0125-preview',\n",
       " 'gpt-3.5-turbo',\n",
       " 'gpt-4-turbo-preview',\n",
       " 'gpt-3.5-turbo-0125',\n",
       " 'gpt-4o-mini-2024-07-18',\n",
       " 'gpt-3.5-turbo-1106',\n",
       " 'gpt-4o-mini',\n",
       " 'gpt-3.5-turbo-16k',\n",
       " 'gpt-3.5-turbo-instruct-0914',\n",
       " 'gpt-4',\n",
       " 'gpt-4-0613',\n",
       " 'gpt-3.5-turbo-instruct',\n",
       " 'chatgpt-4o-latest',\n",
       " 'gpt-4o',\n",
       " 'gpt-4o-2024-05-13',\n",
       " 'gpt-4o-2024-08-06',\n",
       " 'babbage-002',\n",
       " 'davinci-002',\n",
       " 'text-embedding-3-large',\n",
       " 'text-embedding-ada-002']"
      ]
     },
     "execution_count": 10,
     "metadata": {},
     "output_type": "execute_result"
    }
   ],
   "source": []
  },
  {
   "cell_type": "code",
   "execution_count": null,
   "id": "268bca3e-7472-4518-bf16-ae307d50c404",
   "metadata": {},
   "outputs": [],
   "source": []
  }
 ],
 "metadata": {
  "kernelspec": {
   "display_name": "llm-py-v3.11",
   "language": "python",
   "name": "llm-3.11"
  },
  "language_info": {
   "codemirror_mode": {
    "name": "ipython",
    "version": 3
   },
   "file_extension": ".py",
   "mimetype": "text/x-python",
   "name": "python",
   "nbconvert_exporter": "python",
   "pygments_lexer": "ipython3",
   "version": "3.11.9"
  }
 },
 "nbformat": 4,
 "nbformat_minor": 5
}
